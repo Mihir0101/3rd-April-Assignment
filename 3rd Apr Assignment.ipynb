{
 "cells": [
  {
   "cell_type": "markdown",
   "id": "66b9ee48-e7c7-45f1-9755-e426ff42c5e0",
   "metadata": {},
   "source": [
    "# 3rd April Assignment"
   ]
  },
  {
   "cell_type": "code",
   "execution_count": null,
   "id": "57620f08-7bfe-4975-9b2f-dd40dfee35b0",
   "metadata": {},
   "outputs": [],
   "source": []
  },
  {
   "cell_type": "markdown",
   "id": "3f1a8978-b5b9-485c-80bb-7eb071742696",
   "metadata": {},
   "source": [
    "## Q1. Explain the concept of precision and recall in the context of classification models."
   ]
  },
  {
   "cell_type": "markdown",
   "id": "7341f0b0-626c-4eec-817b-c182c7dc4d41",
   "metadata": {},
   "source": [
    "- > Precision and Recall both are important to evaluate performance of the model.\n",
    "\n",
    "* Precision \n",
    "\n",
    "- > It calculated as ratio of correctly predicted positive value to all positive prediction.\n",
    "\n",
    "- > Precision is very important when FP is important.\n",
    "\n",
    "- > Formula : True Positive / True Positive + False Positive\n",
    "\n",
    "* Recall \n",
    "\n",
    "- > It is calculated as ratio of true positive predictions to the total number of actual positive instances.\n",
    "\n",
    "- > Recall is very important when FN is important.\n",
    "\n",
    "- > Formula : True Positive / True Positive + False Nagitive"
   ]
  },
  {
   "cell_type": "code",
   "execution_count": null,
   "id": "725774e8-4611-414b-9f45-9acea0623a1b",
   "metadata": {},
   "outputs": [],
   "source": []
  },
  {
   "cell_type": "markdown",
   "id": "f86a724d-5c40-4e76-8f95-4b717a86804a",
   "metadata": {},
   "source": [
    "## Q2. What is the F1 score and how is it calculated? How is it different from precision and recall?"
   ]
  },
  {
   "cell_type": "markdown",
   "id": "bd6884c9-ec69-43bf-9211-b68650e29af6",
   "metadata": {},
   "source": [
    "- > The F1 score is a metric that combines precision and recall into a single value, providing a balance between the two.\n",
    "\n",
    "- > Formula : ( F * Score ) * ( Precision * Recall / Precision + Recall)\n",
    "\n",
    "- > The F1 score provides a balance between precision and recall. It considers both false positives and false negatives and is useful in situations where there is an imbalance between the two."
   ]
  },
  {
   "cell_type": "code",
   "execution_count": null,
   "id": "f56b2bdc-e491-4f0d-8013-032e6c3fbb6e",
   "metadata": {},
   "outputs": [],
   "source": []
  },
  {
   "cell_type": "markdown",
   "id": "ce02ba59-5c3b-46f0-aede-997e64bbc899",
   "metadata": {},
   "source": [
    "## Q3. What is ROC and AUC, and how are they used to evaluate the performance of classification models?"
   ]
  },
  {
   "cell_type": "markdown",
   "id": "2c029121-ffba-4919-b2c9-6c7ba7072c34",
   "metadata": {},
   "source": [
    "* ROC - Recieving Oparating Characteristic\n",
    "\n",
    "- > The Receiver Operating Characteristic (ROC) curve is a graphical representation of the trade-off between true positive rate (sensitivity) and false positive rate (1-specificity) at various thresholds for a binary classification model. It helps visualize the model's performance across different classification thresholds.\n",
    "\n",
    "- > Formula : True Positve Rate = True Positive / True Positive + False Nagitive\n",
    "\n",
    "    False Nagitive Rate = False Nagitive / False Nagitive + True Nagitive\n",
    "    \n",
    "* AUC - Area Under the Curve\n",
    "\n",
    "- > AUC is a scaler to measure are under the ROC.\n",
    "\n",
    "- > A model with an AUC of 1 implies perfect discrimination.\n",
    "\n",
    "- > A model with an AUC of 0.5 suggests no discrimination (equivalent to random guessing).\n",
    "\n",
    "- > A model with an AUC between 0.5 and 1 indicates varying degrees of discriminatory power."
   ]
  },
  {
   "cell_type": "code",
   "execution_count": null,
   "id": "5432d39b-e03d-4490-8305-239660e3e294",
   "metadata": {},
   "outputs": [],
   "source": []
  },
  {
   "cell_type": "markdown",
   "id": "b05a49bd-da49-40fa-a16a-231612e02fd8",
   "metadata": {},
   "source": [
    "## Q4. How do you choose the best metric to evaluate the performance of a classification model?"
   ]
  },
  {
   "cell_type": "markdown",
   "id": "1e3e69ad-a16a-445e-a294-1142de74b512",
   "metadata": {},
   "source": [
    "* Precision\n",
    "\n",
    "- > We should choose precision when False Positive is important.\n",
    "\n",
    "* Recall\n",
    "\n",
    "- > We should choose recall when False Nagitive is important.\n",
    "\n",
    "* F-Score Beta\n",
    "\n",
    "- > When both precision and recall are important so we choose F-Score Beta."
   ]
  },
  {
   "cell_type": "markdown",
   "id": "8a638f58-b6df-47e5-883f-38ba1b711465",
   "metadata": {},
   "source": [
    "## What is multiclass classification and how is it different from binary classification?\n",
    "\n",
    "- > In multiclass classification dependent variable contains more than two categories,where binary calssification contains only two categories."
   ]
  },
  {
   "cell_type": "code",
   "execution_count": null,
   "id": "6b4c7327-87de-46aa-8d8f-f1756f9ab765",
   "metadata": {},
   "outputs": [],
   "source": []
  },
  {
   "cell_type": "markdown",
   "id": "43709cd8-8dc2-4c70-b3ee-299ba58e6ebe",
   "metadata": {},
   "source": [
    "## Q5. Explain how logistic regression can be used for multiclass classification."
   ]
  },
  {
   "cell_type": "markdown",
   "id": "601c4eac-ab6d-4d9d-95f6-531c7d048995",
   "metadata": {},
   "source": [
    "- > There is two techniques for solve multiclass classification with the help logistic regression.\n",
    "\n",
    "1. One Versus Rest\n",
    "\n",
    "2. Multinomial\n",
    "\n",
    "* Training:\n",
    "\n",
    "- > For each class, a binary logistic regression classifier is trained. During training, the instances of the current class are treated as the positive class, and all other instances are treated as the negative class.This results in as many binary classifiers as there are classes.\n",
    "\n",
    "\n",
    "* Prediction:\n",
    "\n",
    "- > To make a prediction for a new instance, all binary classifiers are applied, and the class associated with the classifier that outputs the highest probability is selected as the predicted class."
   ]
  },
  {
   "cell_type": "code",
   "execution_count": null,
   "id": "222ce0dd-4c38-4b06-bba8-b3aa2f19a127",
   "metadata": {},
   "outputs": [],
   "source": []
  },
  {
   "cell_type": "markdown",
   "id": "00bf5192-f747-4917-beb6-1fd306a20805",
   "metadata": {},
   "source": [
    "## Q6. Describe the steps involved in an end-to-end project for multiclass classification."
   ]
  },
  {
   "cell_type": "markdown",
   "id": "fa9eeea6-12bf-4209-835d-9360abec3499",
   "metadata": {},
   "source": [
    "1. Define the Problem\n",
    "\n",
    "2. Collect Data\n",
    "\n",
    "3. Explore and Preprocess Data\n",
    "\n",
    "4. Split Data\n",
    "\n",
    "5. Select a Model\n",
    "\n",
    "6. Train the Model\n",
    "\n",
    "7. Tune Hyperparameters\n",
    "\n",
    "8. Test the Model\n",
    "\n",
    "9. Deploy the Model\n",
    "\n",
    "10. Monitor and Maintain\n",
    "\n",
    "11. Document the Project"
   ]
  },
  {
   "cell_type": "code",
   "execution_count": null,
   "id": "752f3902-caab-44d4-a96a-2af1cc16ed69",
   "metadata": {},
   "outputs": [],
   "source": []
  },
  {
   "cell_type": "markdown",
   "id": "3ac1477c-ffa9-4f80-9704-fb0c3fd89b73",
   "metadata": {},
   "source": [
    "## Q7. What is model deployment and why is it important?"
   ]
  },
  {
   "cell_type": "markdown",
   "id": "a3a81d75-baf9-40c9-937f-9ddb6dfbc9c3",
   "metadata": {},
   "source": [
    "- > Model deployment refers to the process of integrating a machine learning model into a production environment, making it available for making predictions on new, unseen data. Deployment is the transition from a trained and tested model in a development environment to a live system where it can be used to provide predictions or insights in real-time. The goal is to make the model accessible to end-users or other systems that can benefit from its predictions.\n",
    "\n",
    "- > The ultimate goal of developing a machine learning model is to derive value from it. Deployment is the step that allows the model to contribute to decision-making processes and business operations.\n",
    "\n",
    "- > Deployed models can handle a large volume of data and make predictions at scale. This is important for applications that involve a high frequency of predictions or a large user base.\n",
    "\n",
    "- > Deploying a model makes it accessible to end-users or other systems that need its predictions. This accessibility is crucial for putting the model into practical use."
   ]
  },
  {
   "cell_type": "code",
   "execution_count": null,
   "id": "01b8ddc8-bda4-4470-9356-cf982e57c8d2",
   "metadata": {},
   "outputs": [],
   "source": []
  },
  {
   "cell_type": "markdown",
   "id": "78777579-135e-4a2e-a213-3e37f8b30ef1",
   "metadata": {},
   "source": [
    "## Q8. Explain how multi-cloud platforms are used for model deployment."
   ]
  },
  {
   "cell_type": "markdown",
   "id": "33ed31a9-8137-4cbb-b2c7-46e214a45528",
   "metadata": {},
   "source": [
    "- > Multi-cloud platforms involve the use of services and infrastructure from multiple cloud service providers (CSPs) to deploy and run applications, including machine learning models. Deploying models on multi-cloud platforms offers several advantages, including increased flexibility, redundancy, and the ability to choose services that best fit specific requirements. "
   ]
  },
  {
   "cell_type": "markdown",
   "id": "f8bdab7b-cd53-47b4-aa6a-a80ed0522bcc",
   "metadata": {},
   "source": [
    "## Q9. Discuss the benefits and challenges of deploying machine learning models in a multi-cloud environment."
   ]
  },
  {
   "cell_type": "markdown",
   "id": "f201b3bf-8562-4676-8217-248017092262",
   "metadata": {},
   "source": [
    "* Benefits\n",
    "\n",
    "Flexibility\n",
    "\n",
    "High Avialability\n",
    "\n",
    "Risk Matigation\n",
    "\n",
    "Innovation and Feature Adoption\n",
    "\n",
    "Scalability\n",
    "\n",
    "* Challenges\n",
    "\n",
    "Complexity in Management\n",
    "\n",
    "Security Cencerns\n",
    "\n",
    "Skill require"
   ]
  }
 ],
 "metadata": {
  "kernelspec": {
   "display_name": "Python 3 (ipykernel)",
   "language": "python",
   "name": "python3"
  },
  "language_info": {
   "codemirror_mode": {
    "name": "ipython",
    "version": 3
   },
   "file_extension": ".py",
   "mimetype": "text/x-python",
   "name": "python",
   "nbconvert_exporter": "python",
   "pygments_lexer": "ipython3",
   "version": "3.10.8"
  }
 },
 "nbformat": 4,
 "nbformat_minor": 5
}
